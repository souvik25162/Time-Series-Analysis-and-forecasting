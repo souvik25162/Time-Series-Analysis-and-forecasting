{
  "nbformat": 4,
  "nbformat_minor": 0,
  "metadata": {
    "colab": {
      "name": "Sales forecast1.ipynb",
      "provenance": [],
      "authorship_tag": "ABX9TyPmifLJapEH6up2YhO9+J0l",
      "include_colab_link": true
    },
    "kernelspec": {
      "name": "python3",
      "display_name": "Python 3"
    },
    "accelerator": "TPU"
  },
  "cells": [
    {
      "cell_type": "markdown",
      "metadata": {
        "id": "view-in-github",
        "colab_type": "text"
      },
      "source": [
        "<a href=\"https://colab.research.google.com/github/souvik25162/Time-Series-Analysis-and-forecasting/blob/master/Sales_forecast1.ipynb\" target=\"_parent\"><img src=\"https://colab.research.google.com/assets/colab-badge.svg\" alt=\"Open In Colab\"/></a>"
      ]
    },
    {
      "cell_type": "code",
      "metadata": {
        "id": "vczi3nOvjueb",
        "colab_type": "code",
        "colab": {}
      },
      "source": [
        "from pydrive.auth import GoogleAuth\n",
        "from pydrive.drive import GoogleDrive\n",
        "from google.colab import auth\n",
        "from oauth2client.client import GoogleCredentials"
      ],
      "execution_count": null,
      "outputs": []
    },
    {
      "cell_type": "code",
      "metadata": {
        "id": "OlQgLXNNjwW5",
        "colab_type": "code",
        "colab": {}
      },
      "source": [
        "auth.authenticate_user()\n",
        "gauth = GoogleAuth()\n",
        "gauth.credentials = GoogleCredentials.get_application_default()\n",
        "drive = GoogleDrive(gauth)"
      ],
      "execution_count": null,
      "outputs": []
    },
    {
      "cell_type": "code",
      "metadata": {
        "id": "1Q9Qe4amj0DX",
        "colab_type": "code",
        "colab": {}
      },
      "source": [
        "downloaded = drive.CreateFile({'id':'1EZTIPi28MO-nW0IxgD8T4Lb6od4ZndM5'})\n",
        "downloaded.GetContentFile('sales_train.csv')"
      ],
      "execution_count": null,
      "outputs": []
    },
    {
      "cell_type": "code",
      "metadata": {
        "id": "ZHnCh-_kgCMC",
        "colab_type": "code",
        "colab": {}
      },
      "source": [
        "import warnings\n",
        "import numpy as np\n",
        "import pandas as pd\n",
        "import matplotlib.pyplot as plt\n",
        "warnings.filterwarnings(\"ignore\")\n",
        "plt.style.use(\"fivethirtyeight\")\n",
        "import statsmodels.api as sm"
      ],
      "execution_count": null,
      "outputs": []
    },
    {
      "cell_type": "code",
      "metadata": {
        "id": "3ApBhjRvgSHy",
        "colab_type": "code",
        "colab": {}
      },
      "source": [
        "import matplotlib\n",
        "matplotlib.rcParams['axes.labelsize']=14\n",
        "matplotlib.rcParams['xtick.labelsize']=12\n",
        "matplotlib.rcParams['ytick.labelsize']=12\n",
        "matplotlib.rcParams['text.color']='k'"
      ],
      "execution_count": null,
      "outputs": []
    },
    {
      "cell_type": "code",
      "metadata": {
        "id": "3wl7WthvnAjO",
        "colab_type": "code",
        "colab": {
          "base_uri": "https://localhost:8080/",
          "height": 194
        },
        "outputId": "ef1777c0-7222-48b8-807b-952b1ea04590"
      },
      "source": [
        "df=pd.read_csv('sales_train.csv')\n",
        "df.head()"
      ],
      "execution_count": null,
      "outputs": [
        {
          "output_type": "execute_result",
          "data": {
            "text/html": [
              "<div>\n",
              "<style scoped>\n",
              "    .dataframe tbody tr th:only-of-type {\n",
              "        vertical-align: middle;\n",
              "    }\n",
              "\n",
              "    .dataframe tbody tr th {\n",
              "        vertical-align: top;\n",
              "    }\n",
              "\n",
              "    .dataframe thead th {\n",
              "        text-align: right;\n",
              "    }\n",
              "</style>\n",
              "<table border=\"1\" class=\"dataframe\">\n",
              "  <thead>\n",
              "    <tr style=\"text-align: right;\">\n",
              "      <th></th>\n",
              "      <th>date</th>\n",
              "      <th>date_block_num</th>\n",
              "      <th>shop_id</th>\n",
              "      <th>item_id</th>\n",
              "      <th>item_price</th>\n",
              "      <th>item_cnt_day</th>\n",
              "    </tr>\n",
              "  </thead>\n",
              "  <tbody>\n",
              "    <tr>\n",
              "      <th>0</th>\n",
              "      <td>02.01.2013</td>\n",
              "      <td>0</td>\n",
              "      <td>59</td>\n",
              "      <td>22154</td>\n",
              "      <td>999.00</td>\n",
              "      <td>1.0</td>\n",
              "    </tr>\n",
              "    <tr>\n",
              "      <th>1</th>\n",
              "      <td>03.01.2013</td>\n",
              "      <td>0</td>\n",
              "      <td>25</td>\n",
              "      <td>2552</td>\n",
              "      <td>899.00</td>\n",
              "      <td>1.0</td>\n",
              "    </tr>\n",
              "    <tr>\n",
              "      <th>2</th>\n",
              "      <td>05.01.2013</td>\n",
              "      <td>0</td>\n",
              "      <td>25</td>\n",
              "      <td>2552</td>\n",
              "      <td>899.00</td>\n",
              "      <td>-1.0</td>\n",
              "    </tr>\n",
              "    <tr>\n",
              "      <th>3</th>\n",
              "      <td>06.01.2013</td>\n",
              "      <td>0</td>\n",
              "      <td>25</td>\n",
              "      <td>2554</td>\n",
              "      <td>1709.05</td>\n",
              "      <td>1.0</td>\n",
              "    </tr>\n",
              "    <tr>\n",
              "      <th>4</th>\n",
              "      <td>15.01.2013</td>\n",
              "      <td>0</td>\n",
              "      <td>25</td>\n",
              "      <td>2555</td>\n",
              "      <td>1099.00</td>\n",
              "      <td>1.0</td>\n",
              "    </tr>\n",
              "  </tbody>\n",
              "</table>\n",
              "</div>"
            ],
            "text/plain": [
              "         date  date_block_num  shop_id  item_id  item_price  item_cnt_day\n",
              "0  02.01.2013               0       59    22154      999.00           1.0\n",
              "1  03.01.2013               0       25     2552      899.00           1.0\n",
              "2  05.01.2013               0       25     2552      899.00          -1.0\n",
              "3  06.01.2013               0       25     2554     1709.05           1.0\n",
              "4  15.01.2013               0       25     2555     1099.00           1.0"
            ]
          },
          "metadata": {
            "tags": []
          },
          "execution_count": 6
        }
      ]
    },
    {
      "cell_type": "code",
      "metadata": {
        "id": "BNhRxo5EnTQS",
        "colab_type": "code",
        "colab": {
          "base_uri": "https://localhost:8080/",
          "height": 52
        },
        "outputId": "3230d5ef-8a74-4d76-864e-4406e519f92c"
      },
      "source": [
        "print(\"start date is:\",df['date'].min())\n",
        "print(\"end date is:\", df['date'].max())"
      ],
      "execution_count": null,
      "outputs": [
        {
          "output_type": "stream",
          "text": [
            "start date is: 01.01.2013\n",
            "end date is: 31.12.2014\n"
          ],
          "name": "stdout"
        }
      ]
    },
    {
      "cell_type": "code",
      "metadata": {
        "id": "VaBdFIUfoQof",
        "colab_type": "code",
        "colab": {}
      },
      "source": [
        "import datetime\n",
        "df['date']=pd.to_datetime(df.date)"
      ],
      "execution_count": null,
      "outputs": []
    },
    {
      "cell_type": "code",
      "metadata": {
        "id": "bk4wgcUWx1kW",
        "colab_type": "code",
        "colab": {
          "base_uri": "https://localhost:8080/",
          "height": 194
        },
        "outputId": "dfcfb437-8c88-408a-a091-6d08a51d4ad5"
      },
      "source": [
        "df.head()"
      ],
      "execution_count": null,
      "outputs": [
        {
          "output_type": "execute_result",
          "data": {
            "text/html": [
              "<div>\n",
              "<style scoped>\n",
              "    .dataframe tbody tr th:only-of-type {\n",
              "        vertical-align: middle;\n",
              "    }\n",
              "\n",
              "    .dataframe tbody tr th {\n",
              "        vertical-align: top;\n",
              "    }\n",
              "\n",
              "    .dataframe thead th {\n",
              "        text-align: right;\n",
              "    }\n",
              "</style>\n",
              "<table border=\"1\" class=\"dataframe\">\n",
              "  <thead>\n",
              "    <tr style=\"text-align: right;\">\n",
              "      <th></th>\n",
              "      <th>date</th>\n",
              "      <th>date_block_num</th>\n",
              "      <th>shop_id</th>\n",
              "      <th>item_id</th>\n",
              "      <th>item_price</th>\n",
              "      <th>item_cnt_day</th>\n",
              "    </tr>\n",
              "  </thead>\n",
              "  <tbody>\n",
              "    <tr>\n",
              "      <th>0</th>\n",
              "      <td>2013-02-01</td>\n",
              "      <td>0</td>\n",
              "      <td>59</td>\n",
              "      <td>22154</td>\n",
              "      <td>999.00</td>\n",
              "      <td>1.0</td>\n",
              "    </tr>\n",
              "    <tr>\n",
              "      <th>1</th>\n",
              "      <td>2013-03-01</td>\n",
              "      <td>0</td>\n",
              "      <td>25</td>\n",
              "      <td>2552</td>\n",
              "      <td>899.00</td>\n",
              "      <td>1.0</td>\n",
              "    </tr>\n",
              "    <tr>\n",
              "      <th>2</th>\n",
              "      <td>2013-05-01</td>\n",
              "      <td>0</td>\n",
              "      <td>25</td>\n",
              "      <td>2552</td>\n",
              "      <td>899.00</td>\n",
              "      <td>-1.0</td>\n",
              "    </tr>\n",
              "    <tr>\n",
              "      <th>3</th>\n",
              "      <td>2013-06-01</td>\n",
              "      <td>0</td>\n",
              "      <td>25</td>\n",
              "      <td>2554</td>\n",
              "      <td>1709.05</td>\n",
              "      <td>1.0</td>\n",
              "    </tr>\n",
              "    <tr>\n",
              "      <th>4</th>\n",
              "      <td>2013-01-15</td>\n",
              "      <td>0</td>\n",
              "      <td>25</td>\n",
              "      <td>2555</td>\n",
              "      <td>1099.00</td>\n",
              "      <td>1.0</td>\n",
              "    </tr>\n",
              "  </tbody>\n",
              "</table>\n",
              "</div>"
            ],
            "text/plain": [
              "        date  date_block_num  shop_id  item_id  item_price  item_cnt_day\n",
              "0 2013-02-01               0       59    22154      999.00           1.0\n",
              "1 2013-03-01               0       25     2552      899.00           1.0\n",
              "2 2013-05-01               0       25     2552      899.00          -1.0\n",
              "3 2013-06-01               0       25     2554     1709.05           1.0\n",
              "4 2013-01-15               0       25     2555     1099.00           1.0"
            ]
          },
          "metadata": {
            "tags": []
          },
          "execution_count": 9
        }
      ]
    },
    {
      "cell_type": "code",
      "metadata": {
        "id": "qdEumhNk1Dy0",
        "colab_type": "code",
        "colab": {}
      },
      "source": [
        "data=df[['date','item_cnt_day']]"
      ],
      "execution_count": null,
      "outputs": []
    },
    {
      "cell_type": "code",
      "metadata": {
        "id": "zgqcB32i7V79",
        "colab_type": "code",
        "colab": {
          "base_uri": "https://localhost:8080/",
          "height": 194
        },
        "outputId": "e1b71ed1-51e6-4a2e-fe71-fbcecfaee22b"
      },
      "source": [
        "data.head()"
      ],
      "execution_count": null,
      "outputs": [
        {
          "output_type": "execute_result",
          "data": {
            "text/html": [
              "<div>\n",
              "<style scoped>\n",
              "    .dataframe tbody tr th:only-of-type {\n",
              "        vertical-align: middle;\n",
              "    }\n",
              "\n",
              "    .dataframe tbody tr th {\n",
              "        vertical-align: top;\n",
              "    }\n",
              "\n",
              "    .dataframe thead th {\n",
              "        text-align: right;\n",
              "    }\n",
              "</style>\n",
              "<table border=\"1\" class=\"dataframe\">\n",
              "  <thead>\n",
              "    <tr style=\"text-align: right;\">\n",
              "      <th></th>\n",
              "      <th>date</th>\n",
              "      <th>item_cnt_day</th>\n",
              "    </tr>\n",
              "  </thead>\n",
              "  <tbody>\n",
              "    <tr>\n",
              "      <th>0</th>\n",
              "      <td>2013-02-01</td>\n",
              "      <td>1.0</td>\n",
              "    </tr>\n",
              "    <tr>\n",
              "      <th>1</th>\n",
              "      <td>2013-03-01</td>\n",
              "      <td>1.0</td>\n",
              "    </tr>\n",
              "    <tr>\n",
              "      <th>2</th>\n",
              "      <td>2013-05-01</td>\n",
              "      <td>-1.0</td>\n",
              "    </tr>\n",
              "    <tr>\n",
              "      <th>3</th>\n",
              "      <td>2013-06-01</td>\n",
              "      <td>1.0</td>\n",
              "    </tr>\n",
              "    <tr>\n",
              "      <th>4</th>\n",
              "      <td>2013-01-15</td>\n",
              "      <td>1.0</td>\n",
              "    </tr>\n",
              "  </tbody>\n",
              "</table>\n",
              "</div>"
            ],
            "text/plain": [
              "        date  item_cnt_day\n",
              "0 2013-02-01           1.0\n",
              "1 2013-03-01           1.0\n",
              "2 2013-05-01          -1.0\n",
              "3 2013-06-01           1.0\n",
              "4 2013-01-15           1.0"
            ]
          },
          "metadata": {
            "tags": []
          },
          "execution_count": 11
        }
      ]
    },
    {
      "cell_type": "code",
      "metadata": {
        "id": "H6fVtizOAUaY",
        "colab_type": "code",
        "colab": {
          "base_uri": "https://localhost:8080/",
          "height": 35
        },
        "outputId": "fc237639-88f7-478a-b335-28741eae9de4"
      },
      "source": [
        "data.shape"
      ],
      "execution_count": null,
      "outputs": [
        {
          "output_type": "execute_result",
          "data": {
            "text/plain": [
              "(2935849, 2)"
            ]
          },
          "metadata": {
            "tags": []
          },
          "execution_count": 12
        }
      ]
    },
    {
      "cell_type": "code",
      "metadata": {
        "id": "SXX_TeWK1M6H",
        "colab_type": "code",
        "colab": {}
      },
      "source": [
        "#data = data.groupby('date')['item_cnt_day'].sum().reset_index()"
      ],
      "execution_count": null,
      "outputs": []
    },
    {
      "cell_type": "code",
      "metadata": {
        "id": "rq-udLb-Bsh5",
        "colab_type": "code",
        "colab": {}
      },
      "source": [
        ""
      ],
      "execution_count": null,
      "outputs": []
    },
    {
      "cell_type": "code",
      "metadata": {
        "id": "7w7i7KEax5cj",
        "colab_type": "code",
        "colab": {
          "base_uri": "https://localhost:8080/",
          "height": 194
        },
        "outputId": "4755c311-cd99-407f-823e-93c2b0e95d90"
      },
      "source": [
        "data.head()"
      ],
      "execution_count": null,
      "outputs": [
        {
          "output_type": "execute_result",
          "data": {
            "text/html": [
              "<div>\n",
              "<style scoped>\n",
              "    .dataframe tbody tr th:only-of-type {\n",
              "        vertical-align: middle;\n",
              "    }\n",
              "\n",
              "    .dataframe tbody tr th {\n",
              "        vertical-align: top;\n",
              "    }\n",
              "\n",
              "    .dataframe thead th {\n",
              "        text-align: right;\n",
              "    }\n",
              "</style>\n",
              "<table border=\"1\" class=\"dataframe\">\n",
              "  <thead>\n",
              "    <tr style=\"text-align: right;\">\n",
              "      <th></th>\n",
              "      <th>date</th>\n",
              "      <th>item_cnt_day</th>\n",
              "    </tr>\n",
              "  </thead>\n",
              "  <tbody>\n",
              "    <tr>\n",
              "      <th>0</th>\n",
              "      <td>2013-02-01</td>\n",
              "      <td>1.0</td>\n",
              "    </tr>\n",
              "    <tr>\n",
              "      <th>1</th>\n",
              "      <td>2013-03-01</td>\n",
              "      <td>1.0</td>\n",
              "    </tr>\n",
              "    <tr>\n",
              "      <th>2</th>\n",
              "      <td>2013-05-01</td>\n",
              "      <td>-1.0</td>\n",
              "    </tr>\n",
              "    <tr>\n",
              "      <th>3</th>\n",
              "      <td>2013-06-01</td>\n",
              "      <td>1.0</td>\n",
              "    </tr>\n",
              "    <tr>\n",
              "      <th>4</th>\n",
              "      <td>2013-01-15</td>\n",
              "      <td>1.0</td>\n",
              "    </tr>\n",
              "  </tbody>\n",
              "</table>\n",
              "</div>"
            ],
            "text/plain": [
              "        date  item_cnt_day\n",
              "0 2013-02-01           1.0\n",
              "1 2013-03-01           1.0\n",
              "2 2013-05-01          -1.0\n",
              "3 2013-06-01           1.0\n",
              "4 2013-01-15           1.0"
            ]
          },
          "metadata": {
            "tags": []
          },
          "execution_count": 13
        }
      ]
    },
    {
      "cell_type": "code",
      "metadata": {
        "id": "CcezpyxQX1Wb",
        "colab_type": "code",
        "colab": {}
      },
      "source": [
        "from statsmodels.tsa.arima_model import ARIMA\n",
        "\n",
        "from statsmodels.tsa.statespace.sarimax import SARIMAX\n",
        "from pandas.plotting import autocorrelation_plot\n",
        "from statsmodels.tsa.stattools import adfuller, acf, pacf,arma_order_select_ic\n",
        "import statsmodels.formula.api as smf\n",
        "import statsmodels.tsa.api as smt\n",
        "import statsmodels.api as sm\n",
        "import scipy.stats as scs"
      ],
      "execution_count": null,
      "outputs": []
    },
    {
      "cell_type": "code",
      "metadata": {
        "id": "f1C6rpHJa5Jf",
        "colab_type": "code",
        "colab": {
          "base_uri": "https://localhost:8080/",
          "height": 194
        },
        "outputId": "276302ba-f884-4ecf-d353-33407c8b70f5"
      },
      "source": [
        "df.head()"
      ],
      "execution_count": null,
      "outputs": [
        {
          "output_type": "execute_result",
          "data": {
            "text/html": [
              "<div>\n",
              "<style scoped>\n",
              "    .dataframe tbody tr th:only-of-type {\n",
              "        vertical-align: middle;\n",
              "    }\n",
              "\n",
              "    .dataframe tbody tr th {\n",
              "        vertical-align: top;\n",
              "    }\n",
              "\n",
              "    .dataframe thead th {\n",
              "        text-align: right;\n",
              "    }\n",
              "</style>\n",
              "<table border=\"1\" class=\"dataframe\">\n",
              "  <thead>\n",
              "    <tr style=\"text-align: right;\">\n",
              "      <th></th>\n",
              "      <th>date</th>\n",
              "      <th>date_block_num</th>\n",
              "      <th>shop_id</th>\n",
              "      <th>item_id</th>\n",
              "      <th>item_price</th>\n",
              "      <th>item_cnt_day</th>\n",
              "    </tr>\n",
              "  </thead>\n",
              "  <tbody>\n",
              "    <tr>\n",
              "      <th>0</th>\n",
              "      <td>2013-02-01</td>\n",
              "      <td>0</td>\n",
              "      <td>59</td>\n",
              "      <td>22154</td>\n",
              "      <td>999.00</td>\n",
              "      <td>1.0</td>\n",
              "    </tr>\n",
              "    <tr>\n",
              "      <th>1</th>\n",
              "      <td>2013-03-01</td>\n",
              "      <td>0</td>\n",
              "      <td>25</td>\n",
              "      <td>2552</td>\n",
              "      <td>899.00</td>\n",
              "      <td>1.0</td>\n",
              "    </tr>\n",
              "    <tr>\n",
              "      <th>2</th>\n",
              "      <td>2013-05-01</td>\n",
              "      <td>0</td>\n",
              "      <td>25</td>\n",
              "      <td>2552</td>\n",
              "      <td>899.00</td>\n",
              "      <td>-1.0</td>\n",
              "    </tr>\n",
              "    <tr>\n",
              "      <th>3</th>\n",
              "      <td>2013-06-01</td>\n",
              "      <td>0</td>\n",
              "      <td>25</td>\n",
              "      <td>2554</td>\n",
              "      <td>1709.05</td>\n",
              "      <td>1.0</td>\n",
              "    </tr>\n",
              "    <tr>\n",
              "      <th>4</th>\n",
              "      <td>2013-01-15</td>\n",
              "      <td>0</td>\n",
              "      <td>25</td>\n",
              "      <td>2555</td>\n",
              "      <td>1099.00</td>\n",
              "      <td>1.0</td>\n",
              "    </tr>\n",
              "  </tbody>\n",
              "</table>\n",
              "</div>"
            ],
            "text/plain": [
              "        date  date_block_num  shop_id  item_id  item_price  item_cnt_day\n",
              "0 2013-02-01               0       59    22154      999.00           1.0\n",
              "1 2013-03-01               0       25     2552      899.00           1.0\n",
              "2 2013-05-01               0       25     2552      899.00          -1.0\n",
              "3 2013-06-01               0       25     2554     1709.05           1.0\n",
              "4 2013-01-15               0       25     2555     1099.00           1.0"
            ]
          },
          "metadata": {
            "tags": []
          },
          "execution_count": 15
        }
      ]
    },
    {
      "cell_type": "code",
      "metadata": {
        "id": "Ka2y50F2RaAA",
        "colab_type": "code",
        "colab": {}
      },
      "source": [
        "monthly_salesdf=df.groupby([\"date_block_num\",\"shop_id\",\"item_id\"])[\n",
        "    \"date\",\"item_price\",\"item_cnt_day\"].agg({\"date\":[\"min\",'max'],\"item_price\":\"mean\",\"item_cnt_day\":\"sum\"})"
      ],
      "execution_count": null,
      "outputs": []
    },
    {
      "cell_type": "code",
      "metadata": {
        "id": "M_kwYUO6a_Fl",
        "colab_type": "code",
        "colab": {
          "base_uri": "https://localhost:8080/",
          "height": 399
        },
        "outputId": "cbcffd0f-b8b4-4175-c674-eb1444d3404c"
      },
      "source": [
        "monthly_salesdf.head(10)"
      ],
      "execution_count": null,
      "outputs": [
        {
          "output_type": "execute_result",
          "data": {
            "text/html": [
              "<div>\n",
              "<style scoped>\n",
              "    .dataframe tbody tr th:only-of-type {\n",
              "        vertical-align: middle;\n",
              "    }\n",
              "\n",
              "    .dataframe tbody tr th {\n",
              "        vertical-align: top;\n",
              "    }\n",
              "\n",
              "    .dataframe thead tr th {\n",
              "        text-align: left;\n",
              "    }\n",
              "\n",
              "    .dataframe thead tr:last-of-type th {\n",
              "        text-align: right;\n",
              "    }\n",
              "</style>\n",
              "<table border=\"1\" class=\"dataframe\">\n",
              "  <thead>\n",
              "    <tr>\n",
              "      <th></th>\n",
              "      <th></th>\n",
              "      <th></th>\n",
              "      <th colspan=\"2\" halign=\"left\">date</th>\n",
              "      <th>item_price</th>\n",
              "      <th>item_cnt_day</th>\n",
              "    </tr>\n",
              "    <tr>\n",
              "      <th></th>\n",
              "      <th></th>\n",
              "      <th></th>\n",
              "      <th>min</th>\n",
              "      <th>max</th>\n",
              "      <th>mean</th>\n",
              "      <th>sum</th>\n",
              "    </tr>\n",
              "    <tr>\n",
              "      <th>date_block_num</th>\n",
              "      <th>shop_id</th>\n",
              "      <th>item_id</th>\n",
              "      <th></th>\n",
              "      <th></th>\n",
              "      <th></th>\n",
              "      <th></th>\n",
              "    </tr>\n",
              "  </thead>\n",
              "  <tbody>\n",
              "    <tr>\n",
              "      <th rowspan=\"10\" valign=\"top\">0</th>\n",
              "      <th rowspan=\"10\" valign=\"top\">0</th>\n",
              "      <th>32</th>\n",
              "      <td>2013-01-21</td>\n",
              "      <td>2013-03-01</td>\n",
              "      <td>221.0</td>\n",
              "      <td>6.0</td>\n",
              "    </tr>\n",
              "    <tr>\n",
              "      <th>33</th>\n",
              "      <td>2013-01-17</td>\n",
              "      <td>2013-03-01</td>\n",
              "      <td>347.0</td>\n",
              "      <td>3.0</td>\n",
              "    </tr>\n",
              "    <tr>\n",
              "      <th>35</th>\n",
              "      <td>2013-01-31</td>\n",
              "      <td>2013-01-31</td>\n",
              "      <td>247.0</td>\n",
              "      <td>1.0</td>\n",
              "    </tr>\n",
              "    <tr>\n",
              "      <th>43</th>\n",
              "      <td>2013-01-31</td>\n",
              "      <td>2013-01-31</td>\n",
              "      <td>221.0</td>\n",
              "      <td>1.0</td>\n",
              "    </tr>\n",
              "    <tr>\n",
              "      <th>51</th>\n",
              "      <td>2013-01-13</td>\n",
              "      <td>2013-01-31</td>\n",
              "      <td>128.5</td>\n",
              "      <td>2.0</td>\n",
              "    </tr>\n",
              "    <tr>\n",
              "      <th>61</th>\n",
              "      <td>2013-10-01</td>\n",
              "      <td>2013-10-01</td>\n",
              "      <td>195.0</td>\n",
              "      <td>1.0</td>\n",
              "    </tr>\n",
              "    <tr>\n",
              "      <th>75</th>\n",
              "      <td>2013-01-17</td>\n",
              "      <td>2013-01-17</td>\n",
              "      <td>76.0</td>\n",
              "      <td>1.0</td>\n",
              "    </tr>\n",
              "    <tr>\n",
              "      <th>88</th>\n",
              "      <td>2013-01-16</td>\n",
              "      <td>2013-01-16</td>\n",
              "      <td>76.0</td>\n",
              "      <td>1.0</td>\n",
              "    </tr>\n",
              "    <tr>\n",
              "      <th>95</th>\n",
              "      <td>2013-06-01</td>\n",
              "      <td>2013-06-01</td>\n",
              "      <td>193.0</td>\n",
              "      <td>1.0</td>\n",
              "    </tr>\n",
              "    <tr>\n",
              "      <th>96</th>\n",
              "      <td>2013-10-01</td>\n",
              "      <td>2013-10-01</td>\n",
              "      <td>70.0</td>\n",
              "      <td>1.0</td>\n",
              "    </tr>\n",
              "  </tbody>\n",
              "</table>\n",
              "</div>"
            ],
            "text/plain": [
              "                                     date            item_price item_cnt_day\n",
              "                                      min        max       mean          sum\n",
              "date_block_num shop_id item_id                                              \n",
              "0              0       32      2013-01-21 2013-03-01      221.0          6.0\n",
              "                       33      2013-01-17 2013-03-01      347.0          3.0\n",
              "                       35      2013-01-31 2013-01-31      247.0          1.0\n",
              "                       43      2013-01-31 2013-01-31      221.0          1.0\n",
              "                       51      2013-01-13 2013-01-31      128.5          2.0\n",
              "                       61      2013-10-01 2013-10-01      195.0          1.0\n",
              "                       75      2013-01-17 2013-01-17       76.0          1.0\n",
              "                       88      2013-01-16 2013-01-16       76.0          1.0\n",
              "                       95      2013-06-01 2013-06-01      193.0          1.0\n",
              "                       96      2013-10-01 2013-10-01       70.0          1.0"
            ]
          },
          "metadata": {
            "tags": []
          },
          "execution_count": 18
        }
      ]
    },
    {
      "cell_type": "code",
      "metadata": {
        "id": "YL5fGDrBgwvX",
        "colab_type": "code",
        "colab": {
          "base_uri": "https://localhost:8080/",
          "height": 571
        },
        "outputId": "50242b76-5632-4d9e-8ec3-0b5cc2a06e84"
      },
      "source": [
        "ts=df.groupby([\"date_block_num\"])[\"item_cnt_day\"].sum()\n",
        "ts.astype('float')\n",
        "plt.figure(figsize=(16,8))\n",
        "plt.title('Total Sales of the company')\n",
        "plt.xlabel('Time')\n",
        "plt.ylabel('Sales')\n",
        "plt.plot(ts)"
      ],
      "execution_count": null,
      "outputs": [
        {
          "output_type": "execute_result",
          "data": {
            "text/plain": [
              "[<matplotlib.lines.Line2D at 0x7f0019f0ecc0>]"
            ]
          },
          "metadata": {
            "tags": []
          },
          "execution_count": 16
        },
        {
          "output_type": "display_data",
          "data": {
            "image/png": "[encoded data removed]",
            "text/plain": [
              "<Figure size 1152x576 with 1 Axes>"
            ]
          },
          "metadata": {
            "tags": []
          }
        }
      ]
    },
    {
      "cell_type": "code",
      "metadata": {
        "id": "oveGZ_d21vRb",
        "colab_type": "code",
        "colab": {}
      },
      "source": [
        "def test_stationarity(timeseries):\n",
        "    \n",
        "    #Perform Dickey-Fuller test:\n",
        "    print('Results of Dickey-Fuller Test:')\n",
        "    dftest = adfuller(timeseries, autolag='AIC')\n",
        "    dfoutput = pd.Series(dftest[0:4], index=['Test Statistic','p-value','#Lags Used','Number of Observations Used'])\n",
        "    for key,value in dftest[4].items():\n",
        "        dfoutput['Critical Value (%s)'%key] = value\n",
        "    print (dfoutput)\n"
      ],
      "execution_count": null,
      "outputs": []
    },
    {
      "cell_type": "code",
      "metadata": {
        "id": "BPugCaf424nW",
        "colab_type": "code",
        "colab": {
          "base_uri": "https://localhost:8080/",
          "height": 177
        },
        "outputId": "dac7969a-200b-41b3-f6da-c3190cf7df27"
      },
      "source": [
        "test_stationarity(ts)"
      ],
      "execution_count": null,
      "outputs": [
        {
          "output_type": "stream",
          "text": [
            "Results of Dickey-Fuller Test:\n",
            "Test Statistic                 -2.395704\n",
            "p-value                         0.142953\n",
            "#Lags Used                      0.000000\n",
            "Number of Observations Used    33.000000\n",
            "Critical Value (1%)            -3.646135\n",
            "Critical Value (5%)            -2.954127\n",
            "Critical Value (10%)           -2.615968\n",
            "dtype: float64\n"
          ],
          "name": "stdout"
        }
      ]
    },
    {
      "cell_type": "code",
      "metadata": {
        "id": "RMBLyqyPJjjO",
        "colab_type": "code",
        "colab": {
          "base_uri": "https://localhost:8080/",
          "height": 240
        },
        "outputId": "397bebd0-f828-47c8-b947-0e9caca8d90c"
      },
      "source": [
        "from statsmodels.graphics.tsaplots import plot_acf,plot_pacf\n",
        "fig=plt.figure(figsize=(10,10))\n",
        "ax1=fig.add_subplot(311)\n",
        "fig=plot_acf(ts,ax=ax1,title='Auto correlation on original series')\n"
      ],
      "execution_count": null,
      "outputs": [
        {
          "output_type": "display_data",
          "data": {
            "image/png": "[encoded data removed]",
            "text/plain": [
              "<Figure size 720x720 with 1 Axes>"
            ]
          },
          "metadata": {
            "tags": []
          }
        }
      ]
    },
    {
      "cell_type": "code",
      "metadata": {
        "id": "JXZ1_9aAK42e",
        "colab_type": "code",
        "colab": {}
      },
      "source": [
        "fig=plt.figure(figsize=(10,10))\n",
        "ax2=fig.add_subplot(312)\n",
        "fig=plot_acf(ts.diff().dropna(),ax=ax2,title='Auto correlation on original 1st order differencing')\n"
      ],
      "execution_count": null,
      "outputs": []
    },
    {
      "cell_type": "code",
      "metadata": {
        "id": "P1J8udwGMYHi",
        "colab_type": "code",
        "colab": {}
      },
      "source": [
        "fig=plt.figure(figsize=(10,10))\n",
        "ax3=fig.add_subplot(313)\n",
        "fig=plot_acf(ts.diff().dropna(),ax=ax3,title='Auto correlation on original 2nd order differencing')"
      ],
      "execution_count": null,
      "outputs": []
    },
    {
      "cell_type": "code",
      "metadata": {
        "id": "7UJfNkeqTcXO",
        "colab_type": "code",
        "colab": {}
      },
      "source": [
        "ts.diff().plot(figsize=(20,10),linewidth=5,fontsize=20)\n",
        "plt.xlabel('time',fontsize=20)"
      ],
      "execution_count": null,
      "outputs": []
    },
    {
      "cell_type": "code",
      "metadata": {
        "id": "-Q420Z74G91l",
        "colab_type": "code",
        "colab": {
          "base_uri": "https://localhost:8080/",
          "height": 194
        },
        "outputId": "e3d42578-1653-4d8e-a080-fe956bf4eeee"
      },
      "source": [
        "ts.index=pd.date_range(start = '2013-01-01',end='2015-10-01', freq = 'MS')\n",
        "ts=ts.reset_index()\n",
        "ts=ts.loc[:,[\"index\",\"item_cnt_day\"]]\n",
        "ts.columns = ['confirmed_date','count']\n",
        "ts.head()"
      ],
      "execution_count": null,
      "outputs": [
        {
          "output_type": "execute_result",
          "data": {
            "text/html": [
              "<div>\n",
              "<style scoped>\n",
              "    .dataframe tbody tr th:only-of-type {\n",
              "        vertical-align: middle;\n",
              "    }\n",
              "\n",
              "    .dataframe tbody tr th {\n",
              "        vertical-align: top;\n",
              "    }\n",
              "\n",
              "    .dataframe thead th {\n",
              "        text-align: right;\n",
              "    }\n",
              "</style>\n",
              "<table border=\"1\" class=\"dataframe\">\n",
              "  <thead>\n",
              "    <tr style=\"text-align: right;\">\n",
              "      <th></th>\n",
              "      <th>confirmed_date</th>\n",
              "      <th>count</th>\n",
              "    </tr>\n",
              "  </thead>\n",
              "  <tbody>\n",
              "    <tr>\n",
              "      <th>0</th>\n",
              "      <td>2013-01-01</td>\n",
              "      <td>131479.0</td>\n",
              "    </tr>\n",
              "    <tr>\n",
              "      <th>1</th>\n",
              "      <td>2013-02-01</td>\n",
              "      <td>128090.0</td>\n",
              "    </tr>\n",
              "    <tr>\n",
              "      <th>2</th>\n",
              "      <td>2013-03-01</td>\n",
              "      <td>147142.0</td>\n",
              "    </tr>\n",
              "    <tr>\n",
              "      <th>3</th>\n",
              "      <td>2013-04-01</td>\n",
              "      <td>107190.0</td>\n",
              "    </tr>\n",
              "    <tr>\n",
              "      <th>4</th>\n",
              "      <td>2013-05-01</td>\n",
              "      <td>106970.0</td>\n",
              "    </tr>\n",
              "  </tbody>\n",
              "</table>\n",
              "</div>"
            ],
            "text/plain": [
              "  confirmed_date     count\n",
              "0     2013-01-01  131479.0\n",
              "1     2013-02-01  128090.0\n",
              "2     2013-03-01  147142.0\n",
              "3     2013-04-01  107190.0\n",
              "4     2013-05-01  106970.0"
            ]
          },
          "metadata": {
            "tags": []
          },
          "execution_count": 22
        }
      ]
    },
    {
      "cell_type": "code",
      "metadata": {
        "id": "dOcVwl1chhmw",
        "colab_type": "code",
        "colab": {}
      },
      "source": [
        "count=ts[['count']]"
      ],
      "execution_count": null,
      "outputs": []
    },
    {
      "cell_type": "code",
      "metadata": {
        "id": "aZ9fwO0DhmpA",
        "colab_type": "code",
        "colab": {}
      },
      "source": [
        "count.diff().plot(figsize=(20,10),linewidth=5,fontsize=20)\n",
        "plt.xlabel('time',fontsize=20)"
      ],
      "execution_count": null,
      "outputs": []
    },
    {
      "cell_type": "code",
      "metadata": {
        "id": "b6WL0cfaHOF3",
        "colab_type": "code",
        "colab": {
          "base_uri": "https://localhost:8080/",
          "height": 325
        },
        "outputId": "f3725fa7-c394-4541-a57f-dae18c6813ba"
      },
      "source": [
        "model = ARIMA(ts['count'].values, order=(1, 1, 1))\n",
        "fit_model = model.fit(trend='c', full_output=True, disp=True)\n",
        "fit_model.summary()"
      ],
      "execution_count": null,
      "outputs": [
        {
          "output_type": "execute_result",
          "data": {
            "text/html": [
              "<table class=\"simpletable\">\n",
              "<caption>ARIMA Model Results</caption>\n",
              "<tr>\n",
              "  <th>Dep. Variable:</th>        <td>D.y</td>       <th>  No. Observations:  </th>    <td>33</td>    \n",
              "</tr>\n",
              "<tr>\n",
              "  <th>Model:</th>          <td>ARIMA(1, 1, 1)</td>  <th>  Log Likelihood     </th> <td>-373.574</td> \n",
              "</tr>\n",
              "<tr>\n",
              "  <th>Method:</th>             <td>css-mle</td>     <th>  S.D. of innovations</th> <td>19171.546</td>\n",
              "</tr>\n",
              "<tr>\n",
              "  <th>Date:</th>          <td>Sun, 26 Jul 2020</td> <th>  AIC                </th>  <td>755.147</td> \n",
              "</tr>\n",
              "<tr>\n",
              "  <th>Time:</th>              <td>16:09:10</td>     <th>  BIC                </th>  <td>761.133</td> \n",
              "</tr>\n",
              "<tr>\n",
              "  <th>Sample:</th>                <td>1</td>        <th>  HQIC               </th>  <td>757.161</td> \n",
              "</tr>\n",
              "<tr>\n",
              "  <th></th>                       <td> </td>        <th>                     </th>     <td> </td>    \n",
              "</tr>\n",
              "</table>\n",
              "<table class=\"simpletable\">\n",
              "<tr>\n",
              "      <td></td>         <th>coef</th>     <th>std err</th>      <th>z</th>      <th>P>|z|</th>  <th>[0.025</th>    <th>0.975]</th>  \n",
              "</tr>\n",
              "<tr>\n",
              "  <th>const</th>     <td>-1930.2075</td> <td>  547.470</td> <td>   -3.526</td> <td> 0.001</td> <td>-3003.228</td> <td> -857.187</td>\n",
              "</tr>\n",
              "<tr>\n",
              "  <th>ar.L1.D.y</th> <td>    0.4257</td> <td>    0.163</td> <td>    2.616</td> <td> 0.014</td> <td>    0.107</td> <td>    0.745</td>\n",
              "</tr>\n",
              "<tr>\n",
              "  <th>ma.L1.D.y</th> <td>   -1.0000</td> <td>    0.090</td> <td>  -11.110</td> <td> 0.000</td> <td>   -1.176</td> <td>   -0.824</td>\n",
              "</tr>\n",
              "</table>\n",
              "<table class=\"simpletable\">\n",
              "<caption>Roots</caption>\n",
              "<tr>\n",
              "    <td></td>   <th>            Real</th>  <th>         Imaginary</th> <th>         Modulus</th>  <th>        Frequency</th>\n",
              "</tr>\n",
              "<tr>\n",
              "  <th>AR.1</th> <td>           2.3491</td> <td>          +0.0000j</td> <td>           2.3491</td> <td>           0.0000</td>\n",
              "</tr>\n",
              "<tr>\n",
              "  <th>MA.1</th> <td>           1.0000</td> <td>          +0.0000j</td> <td>           1.0000</td> <td>           0.0000</td>\n",
              "</tr>\n",
              "</table>"
            ],
            "text/plain": [
              "<class 'statsmodels.iolib.summary.Summary'>\n",
              "\"\"\"\n",
              "                             ARIMA Model Results                              \n",
              "==============================================================================\n",
              "Dep. Variable:                    D.y   No. Observations:                   33\n",
              "Model:                 ARIMA(1, 1, 1)   Log Likelihood                -373.574\n",
              "Method:                       css-mle   S.D. of innovations          19171.546\n",
              "Date:                Sun, 26 Jul 2020   AIC                            755.147\n",
              "Time:                        16:09:10   BIC                            761.133\n",
              "Sample:                             1   HQIC                           757.161\n",
              "                                                                              \n",
              "==============================================================================\n",
              "                 coef    std err          z      P>|z|      [0.025      0.975]\n",
              "------------------------------------------------------------------------------\n",
              "const      -1930.2075    547.470     -3.526      0.001   -3003.228    -857.187\n",
              "ar.L1.D.y      0.4257      0.163      2.616      0.014       0.107       0.745\n",
              "ma.L1.D.y     -1.0000      0.090    -11.110      0.000      -1.176      -0.824\n",
              "                                    Roots                                    \n",
              "=============================================================================\n",
              "                  Real          Imaginary           Modulus         Frequency\n",
              "-----------------------------------------------------------------------------\n",
              "AR.1            2.3491           +0.0000j            2.3491            0.0000\n",
              "MA.1            1.0000           +0.0000j            1.0000            0.0000\n",
              "-----------------------------------------------------------------------------\n",
              "\"\"\""
            ]
          },
          "metadata": {
            "tags": []
          },
          "execution_count": 24
        }
      ]
    },
    {
      "cell_type": "code",
      "metadata": {
        "id": "Zs0vQ_8oHYYn",
        "colab_type": "code",
        "colab": {
          "base_uri": "https://localhost:8080/",
          "height": 566
        },
        "outputId": "a2a08808-7bee-4e1a-f0ff-0f75460de5a2"
      },
      "source": [
        "fit_model.plot_predict()\n",
        "plt.title('Forecast vs Actual')\n",
        "pd.DataFrame(fit_model.resid).plot()\n",
        "forcast = fit_model.forecast(steps=6)\n",
        "pred_y = forcast[0].tolist()\n",
        "pred = pd.DataFrame(pred_y)"
      ],
      "execution_count": null,
      "outputs": [
        {
          "output_type": "display_data",
          "data": {
            "image/png": "[encoded data removed]",
            "text/plain": [
              "<Figure size 432x288 with 1 Axes>"
            ]
          },
          "metadata": {
            "tags": []
          }
        },
        {
          "output_type": "display_data",
          "data": {
            "image/png": "[encoded data removed]",
            "text/plain": [
              "<Figure size 432x288 with 1 Axes>"
            ]
          },
          "metadata": {
            "tags": []
          }
        }
      ]
    },
    {
      "cell_type": "code",
      "metadata": {
        "id": "yEWDLg-2ZH61",
        "colab_type": "code",
        "colab": {}
      },
      "source": [
        "model = ARIMA(ts['count'].values, order=(1, 2, 1))\n",
        "fit_model = model.fit(trend='c', full_output=True, disp=True)\n",
        "fit_model.summary()"
      ],
      "execution_count": null,
      "outputs": []
    },
    {
      "cell_type": "code",
      "metadata": {
        "id": "2Q_XlsyqW1Hi",
        "colab_type": "code",
        "colab": {}
      },
      "source": [
        "fit_model.plot_predict()\n",
        "plt.title('Forecast vs Actual')\n",
        "pd.DataFrame(fit_model.resid).plot()\n",
        "forcast = fit_model.forecast(steps=6)\n",
        "pred_y = forcast[0].tolist()\n",
        "pred = pd.DataFrame(pred_y)"
      ],
      "execution_count": null,
      "outputs": []
    },
    {
      "cell_type": "code",
      "metadata": {
        "id": "T8lgJETXXO2T",
        "colab_type": "code",
        "colab": {}
      },
      "source": [
        "fit_model.summary()"
      ],
      "execution_count": null,
      "outputs": []
    },
    {
      "cell_type": "code",
      "metadata": {
        "id": "TYUAL679OxLu",
        "colab_type": "code",
        "colab": {}
      },
      "source": [
        "###prophet\n",
        "ts=df.groupby([\"date_block_num\"])[\"item_cnt_day\"].sum()\n",
        "ts.index=pd.date_range(start = '2013-01-01',end='2015-10-01', freq = 'MS')\n",
        "ts=ts.reset_index()\n",
        "ts.head()"
      ],
      "execution_count": null,
      "outputs": []
    },
    {
      "cell_type": "code",
      "metadata": {
        "id": "pI-u040vQLmG",
        "colab_type": "code",
        "colab": {}
      },
      "source": [
        "ts.columns=['ds','y']\n",
        "ts.head()"
      ],
      "execution_count": null,
      "outputs": []
    },
    {
      "cell_type": "code",
      "metadata": {
        "id": "pSQ5KPP3QIOV",
        "colab_type": "code",
        "colab": {}
      },
      "source": [
        "from fbprophet import Prophet\n",
        "#prophet reqiures a pandas df at the below config \n",
        "# ( date column named as DS and the value column as Y)\n",
        "model = Prophet( yearly_seasonality=True) #instantiate Prophet with only yearly seasonality as our data is monthly \n",
        "model.fit(ts) #fit the model with your dataframe"
      ],
      "execution_count": null,
      "outputs": []
    },
    {
      "cell_type": "code",
      "metadata": {
        "id": "d5XqdplTQcjV",
        "colab_type": "code",
        "colab": {}
      },
      "source": [
        "future = model.make_future_dataframe(periods = 5, freq = 'MS')  \n",
        "# now lets make the forecasts\n",
        "forecast = model.predict(future)\n",
        "forecast[['ds', 'yhat', 'yhat_lower', 'yhat_upper']].tail()"
      ],
      "execution_count": null,
      "outputs": []
    },
    {
      "cell_type": "code",
      "metadata": {
        "id": "5TsQPWz7Qmbv",
        "colab_type": "code",
        "colab": {}
      },
      "source": [
        "model.plot(forecast)"
      ],
      "execution_count": null,
      "outputs": []
    },
    {
      "cell_type": "code",
      "metadata": {
        "id": "7uzpqxHU9OXj",
        "colab_type": "code",
        "colab": {}
      },
      "source": [
        "#import itertools\n",
        "#p = d = q = range(0, 2)\n",
        "#pdq = list(itertools.product(p, d, q))\n",
        "#seasonal_pdq = [(x[0], x[1], x[2], 12) for x in list(itertools.product(p, d, q))]\n",
        "#print('Examples of parameter combinations for Seasonal ARIMA...')\n",
        "##print('SARIMAX: {} x {}'.format(pdq[1], seasonal_pdq[1]))\n",
        "##print('SARIMAX: {} x {}'.format(pdq[1], seasonal_pdq[2]))\n",
        "##print('SARIMAX: {} x {}'.format(pdq[2], seasonal_pdq[3]))\n",
        "##print('SARIMAX: {} x {}'.format(pdq[2], seasonal_pdq[4]))"
      ],
      "execution_count": null,
      "outputs": []
    },
    {
      "cell_type": "code",
      "metadata": {
        "id": "19g-Srax9OrJ",
        "colab_type": "code",
        "colab": {}
      },
      "source": [
        "##for param in pdq:\n",
        "    #for param_seasonal in seasonal_pdq:\n",
        "       # try:\n",
        "           # mod = sm.tsa.statespace.SARIMAX(y,\n",
        "                                            order=param,\n",
        "                                            seasonal_order=param_seasonal,\n",
        "                                            enforce_stationarity=False,\n",
        "                                            enforce_invertibility=False)\n",
        "#results = mod.fit()\n",
        "#print('ARIMA{}x{}12 - AIC:{}'.format(param, param_seasonal, results.aic))\n",
        "       # except:\n",
        "           # continue"
      ],
      "execution_count": null,
      "outputs": []
    },
    {
      "cell_type": "code",
      "metadata": {
        "id": "NZYl9nwC5mfL",
        "colab_type": "code",
        "colab": {}
      },
      "source": [
        "#pred = results.get_prediction(start=pd.to_datetime('2015-01-01'), dynamic=False)\n",
        "#pred_ci = pred.conf_int()\n",
        "#ax = y['2013':].plot(label='observed')\n",
        "#pred.predicted_mean.plot(ax=ax, label='One-step ahead Forecast', alpha=.7, figsize=(14, 7))\n",
        "#ax.fill_between(pred_ci.index,\n",
        "                pred_ci.iloc[:, 0],\n",
        "                pred_ci.iloc[:, 1], color='k', alpha=.2)\n",
        "#ax.set_xlabel('Date')\n",
        "#ax.set_ylabel('Furniture Sales')\n",
        "#plt.legend()\n",
        "#plt.show()"
      ],
      "execution_count": null,
      "outputs": []
    },
    {
      "cell_type": "code",
      "metadata": {
        "id": "I1Ih4anWdUmi",
        "colab_type": "code",
        "colab": {}
      },
      "source": [
        ""
      ],
      "execution_count": null,
      "outputs": []
    }
  ]
}