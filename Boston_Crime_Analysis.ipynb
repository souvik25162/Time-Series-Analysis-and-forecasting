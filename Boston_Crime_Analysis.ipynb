{
  "nbformat": 4,
  "nbformat_minor": 0,
  "metadata": {
    "colab": {
      "name": "Boston Crime Analysis",
      "provenance": [],
      "collapsed_sections": [],
      "authorship_tag": "ABX9TyPcJjHprkb08xhaY182tr34",
      "include_colab_link": true
    },
    "kernelspec": {
      "name": "python3",
      "display_name": "Python 3"
    }
  },
  "cells": [
    {
      "cell_type": "markdown",
      "metadata": {
        "id": "view-in-github",
        "colab_type": "text"
      },
      "source": [
        "<a href=\"https://colab.research.google.com/github/souvik25162/Time-Series-Analysis-and-forecasting/blob/master/Boston_Crime_Analysis.ipynb\" target=\"_parent\"><img src=\"https://colab.research.google.com/assets/colab-badge.svg\" alt=\"Open In Colab\"/></a>"
      ]
    },
    {
      "cell_type": "code",
      "metadata": {
        "id": "81h7GAawPPcx",
        "colab_type": "code",
        "colab": {}
      },
      "source": [
        "from pydrive.auth import GoogleAuth\n",
        "from pydrive.drive import GoogleDrive\n",
        "from google.colab import auth\n",
        "from oauth2client.client import GoogleCredentials"
      ],
      "execution_count": null,
      "outputs": []
    },
    {
      "cell_type": "code",
      "metadata": {
        "id": "vuy3-_EVPVui",
        "colab_type": "code",
        "colab": {}
      },
      "source": [
        "auth.authenticate_user()\n",
        "gauth = GoogleAuth()\n",
        "gauth.credentials = GoogleCredentials.get_application_default()\n",
        "drive = GoogleDrive(gauth)"
      ],
      "execution_count": null,
      "outputs": []
    },
    {
      "cell_type": "code",
      "metadata": {
        "id": "QZQXpk-ePY89",
        "colab_type": "code",
        "colab": {}
      },
      "source": [
        "downloaded = drive.CreateFile({'id':'1sgb3kHhvfAxJyBZ-s9njtw5bS11K6LKz'})\n",
        "downloaded.GetContentFile('crime.xlsx')"
      ],
      "execution_count": null,
      "outputs": []
    },
    {
      "cell_type": "code",
      "metadata": {
        "id": "k23S9aOxQTaY",
        "colab_type": "code",
        "colab": {}
      },
      "source": [
        "import warnings\n",
        "import numpy as np\n",
        "import pandas as pd\n",
        "import matplotlib.pyplot as plt\n",
        "warnings.filterwarnings(\"ignore\")\n",
        "plt.style.use(\"fivethirtyeight\")\n",
        "import statsmodels.api as sm\n",
        "import matplotlib\n",
        "matplotlib.rcParams['axes.labelsize']=14\n",
        "matplotlib.rcParams['xtick.labelsize']=12\n",
        "matplotlib.rcParams['ytick.labelsize']=12\n",
        "matplotlib.rcParams['text.color']='k'"
      ],
      "execution_count": null,
      "outputs": []
    },
    {
      "cell_type": "code",
      "metadata": {
        "id": "B2uKcVoiPu-a",
        "colab_type": "code",
        "colab": {}
      },
      "source": [
        "https://drive.google.com/file/d/1sgb3kHhvfAxJyBZ-s9njtw5bS11K6LKz/view?usp=sharing"
      ],
      "execution_count": null,
      "outputs": []
    },
    {
      "cell_type": "code",
      "metadata": {
        "id": "sy09Uvn_Qav1",
        "colab_type": "code",
        "colab": {}
      },
      "source": [
        "df=pd.read_excel('crime.xlsx',encoding='latin-1')\n",
        "df.head()"
      ],
      "execution_count": null,
      "outputs": []
    },
    {
      "cell_type": "code",
      "metadata": {
        "id": "FHf1vUPxWJdw",
        "colab_type": "code",
        "colab": {}
      },
      "source": [
        "import datetime"
      ],
      "execution_count": null,
      "outputs": []
    },
    {
      "cell_type": "code",
      "metadata": {
        "id": "Lcgr4OdlYEm9",
        "colab_type": "code",
        "colab": {}
      },
      "source": [
        "df['DATE']=pd.to_datetime(df['OCCURRED_ON_DATE']).dt.date"
      ],
      "execution_count": null,
      "outputs": []
    },
    {
      "cell_type": "code",
      "metadata": {
        "id": "U_0Uz-_nUfH3",
        "colab_type": "code",
        "colab": {}
      },
      "source": [
        "def createdf(c1,d1,c2,d2):\n",
        "    dic = {c1:d1,c2:d2}\n",
        "    df = pd.DataFrame(dic)\n",
        "    return df"
      ],
      "execution_count": null,
      "outputs": []
    },
    {
      "cell_type": "code",
      "metadata": {
        "id": "rPJnP6vETnrB",
        "colab_type": "code",
        "colab": {}
      },
      "source": [
        "c = createdf(\"Date\",df[\"DATE\"].value_counts().index,\"Count\",df[\"DATE\"].value_counts())"
      ],
      "execution_count": null,
      "outputs": []
    },
    {
      "cell_type": "code",
      "metadata": {
        "id": "w8-crswhWrD3",
        "colab_type": "code",
        "colab": {}
      },
      "source": [
        "c.head()"
      ],
      "execution_count": null,
      "outputs": []
    },
    {
      "cell_type": "code",
      "metadata": {
        "id": "DS9UiGfFc5sU",
        "colab_type": "code",
        "colab": {}
      },
      "source": [
        "##ts= pd.DataFrame(df[\"DATE\"].value_counts(),df[\"DATE\"].value_counts().index)\n",
        "#ts.head()"
      ],
      "execution_count": null,
      "outputs": []
    },
    {
      "cell_type": "code",
      "metadata": {
        "id": "MkJ2oBzEgwXF",
        "colab_type": "code",
        "colab": {}
      },
      "source": [
        "#ts.index=pd.to_datetime(ts.index)"
      ],
      "execution_count": null,
      "outputs": []
    },
    {
      "cell_type": "code",
      "metadata": {
        "id": "LMq6VQ_HeUL2",
        "colab_type": "code",
        "colab": {}
      },
      "source": [
        "#ts=ts.rename(columns={'DATE':'count'})"
      ],
      "execution_count": null,
      "outputs": []
    },
    {
      "cell_type": "code",
      "metadata": {
        "id": "ZsC-66T-eqp3",
        "colab_type": "code",
        "colab": {}
      },
      "source": [
        "#ts.head()"
      ],
      "execution_count": null,
      "outputs": []
    },
    {
      "cell_type": "code",
      "metadata": {
        "id": "zoc8NS1x6gJJ",
        "colab_type": "code",
        "colab": {}
      },
      "source": [
        "c.index=pd.to_datetime(c.index)"
      ],
      "execution_count": 13,
      "outputs": []
    },
    {
      "cell_type": "code",
      "metadata": {
        "id": "tY-bnTKVf4im",
        "colab_type": "code",
        "colab": {}
      },
      "source": [
        "Y=c['Count'].resample('MS').mean()"
      ],
      "execution_count": null,
      "outputs": []
    },
    {
      "cell_type": "code",
      "metadata": {
        "id": "X2bgXV-4gIiI",
        "colab_type": "code",
        "colab": {}
      },
      "source": [
        "Y.plot(figsize=(15,6))\n",
        "plt.show()"
      ],
      "execution_count": null,
      "outputs": []
    },
    {
      "cell_type": "code",
      "metadata": {
        "id": "7ZkyqBSuvauI",
        "colab_type": "code",
        "colab": {}
      },
      "source": [
        "from statsmodels.tsa.stattools import adfuller,acf,pacf\n",
        "import statsmodels.api as sm\n",
        "from statsmodels.tsa.arima_model import ARIMA\n",
        "from pandas.plotting import autocorrelation_plot"
      ],
      "execution_count": null,
      "outputs": []
    },
    {
      "cell_type": "code",
      "metadata": {
        "id": "9P9qwU2Z9s_4",
        "colab_type": "code",
        "colab": {}
      },
      "source": [
        "d=c.sort_values(by=\"Date\",ascending = True)"
      ],
      "execution_count": null,
      "outputs": []
    },
    {
      "cell_type": "code",
      "metadata": {
        "id": "sA46a30NGmQz",
        "colab_type": "code",
        "colab": {}
      },
      "source": [
        "d.head()"
      ],
      "execution_count": null,
      "outputs": []
    },
    {
      "cell_type": "code",
      "metadata": {
        "id": "eRC2J7jDy0kX",
        "colab_type": "code",
        "colab": {}
      },
      "source": [
        "from statsmodels.graphics.tsaplots import plot_acf,plot_pacf"
      ],
      "execution_count": null,
      "outputs": []
    },
    {
      "cell_type": "code",
      "metadata": {
        "id": "WOVSomEPzJxI",
        "colab_type": "code",
        "colab": {}
      },
      "source": [
        "fig = plt.figure(figsize=(16,16))\n",
        "ax1 = fig.add_subplot(411)\n",
        "fig = plot_acf(d[\"Count\"],lags=200,ax=ax1)\n",
        "plt.title('Autocorrelation Lag=200')\n",
        "ax2 = fig.add_subplot(412)\n",
        "fig = plot_pacf(d[\"Count\"],lags=200,ax=ax2)\n",
        "plt.title('Partial Autocorrelation Lag=200')\n",
        "ax3 = fig.add_subplot(413)\n",
        "fig = plot_acf(d[\"Count\"],lags=15,ax=ax3)\n",
        "plt.title('Autocorrelation Lag=15')\n",
        "ax4 = fig.add_subplot(414)\n",
        "fig = plot_pacf(d[\"Count\"],lags=15,ax=ax4)\n",
        "plt.title('Partial Autocorrelation Lag=15')\n",
        "plt.subplots_adjust(left=None, bottom=None, right=None, top=None,\n",
        "                wspace=None, hspace=0.5)\n",
        "plt.show()"
      ],
      "execution_count": null,
      "outputs": []
    },
    {
      "cell_type": "code",
      "metadata": {
        "id": "keyzfGzC6wrI",
        "colab_type": "code",
        "colab": {}
      },
      "source": [
        "import matplotlib.ticker as ticker\n",
        "import statsmodels.api as sm\n",
        "###from statsmodels.graphics.tsaplots import plot_acf, plot_pacf"
      ],
      "execution_count": 22,
      "outputs": []
    },
    {
      "cell_type": "code",
      "metadata": {
        "id": "Fe9cCvG0ICfp",
        "colab_type": "code",
        "colab": {}
      },
      "source": [
        "res = sm.tsa.seasonal_decompose(d['Count'],freq=12,model=\"additive\")\n",
        "trend = res.trend\n",
        "seasonal = res.seasonal\n",
        "residual = res.resid\n",
        "\n",
        "fig,ax=plt.subplots(figsize = (20,15))\n",
        "ax1 = fig.add_subplot(411)\n",
        "ax1.xaxis.set_major_locator(ticker.MultipleLocator(80))\n",
        "ax1.plot(d['Count'], label='Original')\n",
        "ax1.legend(loc='best')\n",
        "\n",
        "ax2 = fig.add_subplot(412)\n",
        "ax2.xaxis.set_major_locator(ticker.MultipleLocator(80))\n",
        "ax2.plot(trend, label='Trend')\n",
        "ax2.legend(loc='best')\n",
        "\n",
        "ax3 = fig.add_subplot(413)\n",
        "ax3.xaxis.set_major_locator(ticker.MultipleLocator(10))\n",
        "ax3.plot(seasonal[:100],label='Seasonality')\n",
        "ax3.legend(loc='best')\n",
        "\n",
        "ax4 = fig.add_subplot(414)\n",
        "ax4.xaxis.set_major_locator(ticker.MultipleLocator(80))\n",
        "ax4.plot(residual, label='Residuals')\n",
        "ax4.legend(loc='best')\n",
        "plt.tight_layout()"
      ],
      "execution_count": null,
      "outputs": []
    },
    {
      "cell_type": "code",
      "metadata": {
        "id": "ETzpKsWp3TR8",
        "colab_type": "code",
        "colab": {}
      },
      "source": [
        "def test_stationarity(series,mlag = 365, lag = None,):\n",
        "    print('ADF Test Result')\n",
        "    res = adfuller(series, maxlag = mlag, autolag = lag)\n",
        "    output = pd.Series(res[0:4],index = ['Test Statistic', 'p value', 'used lag', 'Number of observations used'])\n",
        "    for key, value in res[4].items():\n",
        "        output['Critical Value ' + key] = value\n",
        "    print(output)"
      ],
      "execution_count": null,
      "outputs": []
    },
    {
      "cell_type": "code",
      "metadata": {
        "id": "Sx_FX_5Z2wf4",
        "colab_type": "code",
        "colab": {}
      },
      "source": [
        "test_stationarity(d['Count'],lag='AIC')"
      ],
      "execution_count": null,
      "outputs": []
    },
    {
      "cell_type": "code",
      "metadata": {
        "id": "GiFCMLC9a8BJ",
        "colab_type": "code",
        "colab": {}
      },
      "source": [
        "import seaborn as sns "
      ],
      "execution_count": null,
      "outputs": []
    },
    {
      "cell_type": "code",
      "metadata": {
        "id": "BE9VwzlEbjxD",
        "colab_type": "code",
        "colab": {}
      },
      "source": [
        "d1 = d.copy()\n",
        "d1['Count'] = d1['Count'].diff(1)"
      ],
      "execution_count": null,
      "outputs": []
    },
    {
      "cell_type": "code",
      "metadata": {
        "id": "j7XhekcibsfE",
        "colab_type": "code",
        "colab": {}
      },
      "source": [
        "d1.head()"
      ],
      "execution_count": null,
      "outputs": []
    },
    {
      "cell_type": "code",
      "metadata": {
        "id": "7sFTnRlV8jj9",
        "colab_type": "code",
        "colab": {}
      },
      "source": [
        "d1.isna().sum()"
      ],
      "execution_count": null,
      "outputs": []
    },
    {
      "cell_type": "code",
      "metadata": {
        "id": "nIV778Xhb4Em",
        "colab_type": "code",
        "colab": {}
      },
      "source": [
        "d1 = d1.dropna(axis=0)"
      ],
      "execution_count": null,
      "outputs": []
    },
    {
      "cell_type": "code",
      "metadata": {
        "id": "MJXDV0vjanQC",
        "colab_type": "code",
        "colab": {}
      },
      "source": [
        "sns.lineplot(x=\"Date\",y=\"Count\",data=d1)"
      ],
      "execution_count": null,
      "outputs": []
    },
    {
      "cell_type": "code",
      "metadata": {
        "id": "LDqFPPwbcbGU",
        "colab_type": "code",
        "colab": {}
      },
      "source": [
        "import math\n",
        "print('Average= '+str(d1['Count'].mean()))\n",
        "print('Std= ' + str(d1['Count'].std()))\n",
        "print('SE= ' + str(d1['Count'].std()/math.sqrt(len(d1))))\n",
        "print(test_stationarity(d1['Count'],lag = 'AIC'))\n"
      ],
      "execution_count": null,
      "outputs": []
    },
    {
      "cell_type": "code",
      "metadata": {
        "id": "XdnMLXdPc3Iy",
        "colab_type": "code",
        "colab": {}
      },
      "source": [
        "fig_2 = plt.figure(figsize=(16,8))\n",
        "ax1_2 = fig_2.add_subplot(211)\n",
        "fig_2 = plot_acf(d1[\"Count\"],lags=15,ax=ax1_2)\n",
        "ax2_2 = fig_2.add_subplot(212)\n",
        "fig_2 = plot_pacf(d1[\"Count\"],lags=15,ax=ax2_2)"
      ],
      "execution_count": null,
      "outputs": []
    },
    {
      "cell_type": "code",
      "metadata": {
        "id": "cJU8O-49sX7k",
        "colab_type": "code",
        "colab": {}
      },
      "source": [
        "d=c.sort_values(by=\"Date\",ascending = True)"
      ],
      "execution_count": null,
      "outputs": []
    },
    {
      "cell_type": "code",
      "metadata": {
        "id": "jRBhdxtMeTyr",
        "colab_type": "code",
        "colab": {}
      },
      "source": [
        "d.head()"
      ],
      "execution_count": null,
      "outputs": []
    },
    {
      "cell_type": "code",
      "metadata": {
        "id": "AA00yv1WzZnC",
        "colab_type": "code",
        "colab": {}
      },
      "source": [
        "ts=d"
      ],
      "execution_count": null,
      "outputs": []
    },
    {
      "cell_type": "code",
      "metadata": {
        "id": "6YNfBf4BfPGy",
        "colab_type": "code",
        "colab": {}
      },
      "source": [
        "d['Date'].max()"
      ],
      "execution_count": null,
      "outputs": []
    },
    {
      "cell_type": "code",
      "metadata": {
        "id": "zHUTT5k1d9vr",
        "colab_type": "code",
        "colab": {}
      },
      "source": [
        "timeseries =d ['Count']\n",
        "p,d,q = (4,1,2)\n",
        "arima_mod = ARIMA(timeseries,(p,d,q)).fit()\n",
        "summary = (arima_mod.summary2(alpha=.05, float_format=\"%.8f\"))\n",
        "print(summary)"
      ],
      "execution_count": null,
      "outputs": []
    },
    {
      "cell_type": "code",
      "metadata": {
        "id": "Ecykl_Qe_ojo",
        "colab_type": "code",
        "colab": {}
      },
      "source": [
        "predict_data =arima_mod.predict(start='2016-07-01', end='2017-07-01', dynamic = False)\n",
        "timeseries.index = pd.DatetimeIndex(timeseries.index)\n",
        "fig, ax = plt.subplots(figsize=(20, 15))\n",
        "ax = timeseries.plot(ax=ax)\n",
        "predict_data.plot(ax=ax)\n",
        "plt.show()"
      ],
      "execution_count": null,
      "outputs": []
    },
    {
      "cell_type": "code",
      "metadata": {
        "id": "UofiYCSiw0BE",
        "colab_type": "code",
        "colab": {}
      },
      "source": [
        "import itertools"
      ],
      "execution_count": null,
      "outputs": []
    },
    {
      "cell_type": "code",
      "metadata": {
        "id": "LAV7NtlKwpeK",
        "colab_type": "code",
        "colab": {}
      },
      "source": [
        "p = d = q = range(0, 2)\n",
        " \n",
        "# Generate all different combinations of p, q and q triplets\n",
        "pdq = list(itertools.product(p, d, q))\n",
        " \n",
        "# Generate all different combinations of seasonal p, q and q triplets\n",
        "seasonal_pdq = [(x[0], x[1], x[2], 7) for x in list(itertools.product(p, d, q))]\n",
        " \n",
        "print('Examples of parameter combinations for Seasonal ARIMA...')\n",
        "print('SARIMAX: {} x {}'.format(pdq[1], seasonal_pdq[1]))\n",
        "print('SARIMAX: {} x {}'.format(pdq[1], seasonal_pdq[2]))\n",
        "print('SARIMAX: {} x {}'.format(pdq[2], seasonal_pdq[3]))\n",
        "print('SARIMAX: {} x {}'.format(pdq[2], seasonal_pdq[4]))"
      ],
      "execution_count": null,
      "outputs": []
    },
    {
      "cell_type": "code",
      "metadata": {
        "id": "ILA9-V_rxDPr",
        "colab_type": "code",
        "colab": {}
      },
      "source": [
        "res = pd.DataFrame(columns = ['order', 'seasonal_order', 'AIC'])"
      ],
      "execution_count": null,
      "outputs": []
    },
    {
      "cell_type": "code",
      "metadata": {
        "id": "_DW_zJhsygFv",
        "colab_type": "code",
        "colab": {}
      },
      "source": [
        "ts.head()"
      ],
      "execution_count": null,
      "outputs": []
    },
    {
      "cell_type": "code",
      "metadata": {
        "id": "ds_UAmfgyZP1",
        "colab_type": "code",
        "colab": {}
      },
      "source": [
        "Y=ts['Count']"
      ],
      "execution_count": null,
      "outputs": []
    },
    {
      "cell_type": "code",
      "metadata": {
        "id": "HlRWvzttyB3U",
        "colab_type": "code",
        "colab": {}
      },
      "source": [
        "for param in pdq:\n",
        "    for param_seasonal in seasonal_pdq:\n",
        "        try:\n",
        "            mod = sm.tsa.statespace.SARIMAX(Y,\n",
        "                                            order=param,\n",
        "                                            seasonal_order=param_seasonal,\n",
        "                                            enforce_stationarity=False,\n",
        "                                            enforce_invertibility=False)\n",
        "            results = mod.fit()\n",
        "            print('ARIMA{}x{}7 - AIC:{}'.format(param, param_seasonal, results.aic))\n",
        "        except:\n",
        "            continue \n",
        "                       "
      ],
      "execution_count": null,
      "outputs": []
    },
    {
      "cell_type": "code",
      "metadata": {
        "id": "syDMFZYF1cpQ",
        "colab_type": "code",
        "colab": {}
      },
      "source": [
        "from statsmodels.tsa.statespace.sarimax import SARIMAX"
      ],
      "execution_count": null,
      "outputs": []
    },
    {
      "cell_type": "code",
      "metadata": {
        "id": "A86tzSlB0Y2X",
        "colab_type": "code",
        "colab": {}
      },
      "source": [
        "model=SARIMAX(ts['Count'], order=(1,1,1), seasonal_order=(1,1,1, 7)).fit()\n",
        "summary = model.summary()\n",
        "print(summary)"
      ],
      "execution_count": null,
      "outputs": []
    },
    {
      "cell_type": "code",
      "metadata": {
        "id": "hTEuGLfs1sJZ",
        "colab_type": "code",
        "colab": {}
      },
      "source": [
        "predict_data = model.predict(start='2016-07-01', end='2017-07-01', dynamic = False)\n",
        "timeseries.index = pd.DatetimeIndex(timeseries.index)\n",
        "fig, ax = plt.subplots(figsize=(20, 15))\n",
        "ax = timeseries.plot(ax=ax)\n",
        "predict_data.plot(ax=ax)\n",
        "plt.show()"
      ],
      "execution_count": null,
      "outputs": []
    },
    {
      "cell_type": "code",
      "metadata": {
        "id": "09Yw1bK-sfOd",
        "colab_type": "code",
        "colab": {}
      },
      "source": [
        "pred_uc = model.get_forecast(steps=30)\n",
        "\n",
        "# Get confidence intervals of forecasts\n",
        "pred_ci = pred_uc.conf_int()"
      ],
      "execution_count": null,
      "outputs": []
    },
    {
      "cell_type": "code",
      "metadata": {
        "id": "mOJFLGNC1vnC",
        "colab_type": "code",
        "colab": {}
      },
      "source": [
        "ax = ts['Count'][-60:].plot(label='observed', figsize=(15, 10))\n",
        "pred_uc.predicted_mean.plot(ax=ax, label='Forecast')\n",
        "ax.fill_between(pred_ci.index,\n",
        "                pred_ci.iloc[:, 0],\n",
        "                pred_ci.iloc[:, 1], color='k', alpha=.25)\n",
        "ax.set_xlabel('Date')\n",
        "ax.set_ylabel('Counts')\n",
        " \n",
        "plt.legend()\n",
        "plt.show()"
      ],
      "execution_count": null,
      "outputs": []
    },
    {
      "cell_type": "code",
      "metadata": {
        "id": "C-PUZ2gG31_m",
        "colab_type": "code",
        "colab": {}
      },
      "source": [
        "week = createdf(\"Week\",df[\"DAY_OF_WEEK\"].value_counts().index,\"Count\",df[\"DAY_OF_WEEK\"].value_counts())\n",
        "week=week.reindex(['Monday','Tuesday','Wednesday','Thursday','Friday','Saturday','Sunday'])\n",
        "plt.bar(week[\"Week\"] , week[\"Count\"], width=0.3)\n",
        "plt.ylim(36000, 50000)\n",
        "plt.title('Crimes by WeekDay')\n",
        "plt.show()"
      ],
      "execution_count": null,
      "outputs": []
    }
  ]
}