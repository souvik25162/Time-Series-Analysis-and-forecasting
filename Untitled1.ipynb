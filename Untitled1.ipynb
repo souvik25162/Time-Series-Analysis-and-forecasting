{
  "nbformat": 4,
  "nbformat_minor": 0,
  "metadata": {
    "colab": {
      "name": "Untitled1.ipynb",
      "provenance": [],
      "private_outputs": true,
      "authorship_tag": "ABX9TyOEYs5Z20PcpYaHRQ6oDkrq",
      "include_colab_link": true
    },
    "kernelspec": {
      "name": "python3",
      "display_name": "Python 3"
    }
  },
  "cells": [
    {
      "cell_type": "markdown",
      "metadata": {
        "id": "view-in-github",
        "colab_type": "text"
      },
      "source": [
        "<a href=\"https://colab.research.google.com/github/souvik25162/Time-Series-Analysis-and-forecasting/blob/master/Untitled1.ipynb\" target=\"_parent\"><img src=\"https://colab.research.google.com/assets/colab-badge.svg\" alt=\"Open In Colab\"/></a>"
      ]
    },
    {
      "cell_type": "code",
      "metadata": {
        "id": "vczi3nOvjueb",
        "colab_type": "code",
        "colab": {}
      },
      "source": [
        "from pydrive.auth import GoogleAuth\n",
        "from pydrive.drive import GoogleDrive\n",
        "from google.colab import auth\n",
        "from oauth2client.client import GoogleCredentials"
      ],
      "execution_count": null,
      "outputs": []
    },
    {
      "cell_type": "code",
      "metadata": {
        "id": "OlQgLXNNjwW5",
        "colab_type": "code",
        "colab": {}
      },
      "source": [
        "auth.authenticate_user()\n",
        "gauth = GoogleAuth()\n",
        "gauth.credentials = GoogleCredentials.get_application_default()\n",
        "drive = GoogleDrive(gauth)"
      ],
      "execution_count": null,
      "outputs": []
    },
    {
      "cell_type": "code",
      "metadata": {
        "id": "1Q9Qe4amj0DX",
        "colab_type": "code",
        "colab": {}
      },
      "source": [
        "downloaded = drive.CreateFile({'id':'1EZTIPi28MO-nW0IxgD8T4Lb6od4ZndM5'})\n",
        "downloaded.GetContentFile('sales_train.csv')"
      ],
      "execution_count": null,
      "outputs": []
    },
    {
      "cell_type": "code",
      "metadata": {
        "id": "ZHnCh-_kgCMC",
        "colab_type": "code",
        "colab": {}
      },
      "source": [
        "import warnings\n",
        "import numpy as np\n",
        "import pandas as pd\n",
        "import matplotlib.pyplot as plt\n",
        "warnings.filterwarnings(\"ignore\")\n",
        "plt.style.use(\"fivethirtyeight\")\n",
        "import statsmodels.api as sm"
      ],
      "execution_count": null,
      "outputs": []
    },
    {
      "cell_type": "code",
      "metadata": {
        "id": "3ApBhjRvgSHy",
        "colab_type": "code",
        "colab": {}
      },
      "source": [
        "import matplotlib\n",
        "matplotlib.rcParams['axes.labelsize']=14\n",
        "matplotlib.rcParams['xtick.labelsize']=12\n",
        "matplotlib.rcParams['ytick.labelsize']=12\n",
        "matplotlib.rcParams['text.color']='k'"
      ],
      "execution_count": null,
      "outputs": []
    },
    {
      "cell_type": "code",
      "metadata": {
        "id": "3wl7WthvnAjO",
        "colab_type": "code",
        "colab": {}
      },
      "source": [
        "df=pd.read_csv('sales_train.csv')\n",
        "df.head()"
      ],
      "execution_count": null,
      "outputs": []
    },
    {
      "cell_type": "code",
      "metadata": {
        "id": "BNhRxo5EnTQS",
        "colab_type": "code",
        "colab": {}
      },
      "source": [
        "print(\"start date is:\",df['date'].min())\n",
        "print(\"end date is:\", df['date'].max())"
      ],
      "execution_count": null,
      "outputs": []
    },
    {
      "cell_type": "code",
      "metadata": {
        "id": "VaBdFIUfoQof",
        "colab_type": "code",
        "colab": {}
      },
      "source": [
        "import datetime\n",
        "df['date']=pd.to_datetime(df.date)"
      ],
      "execution_count": null,
      "outputs": []
    },
    {
      "cell_type": "code",
      "metadata": {
        "id": "bk4wgcUWx1kW",
        "colab_type": "code",
        "colab": {}
      },
      "source": [
        "df.head()"
      ],
      "execution_count": null,
      "outputs": []
    },
    {
      "cell_type": "code",
      "metadata": {
        "id": "qdEumhNk1Dy0",
        "colab_type": "code",
        "colab": {}
      },
      "source": [
        "data=df[['date','item_cnt_day']]"
      ],
      "execution_count": null,
      "outputs": []
    },
    {
      "cell_type": "code",
      "metadata": {
        "id": "zgqcB32i7V79",
        "colab_type": "code",
        "colab": {}
      },
      "source": [
        "data.head()"
      ],
      "execution_count": null,
      "outputs": []
    },
    {
      "cell_type": "code",
      "metadata": {
        "id": "H6fVtizOAUaY",
        "colab_type": "code",
        "colab": {}
      },
      "source": [
        "data.shape"
      ],
      "execution_count": null,
      "outputs": []
    },
    {
      "cell_type": "code",
      "metadata": {
        "id": "SXX_TeWK1M6H",
        "colab_type": "code",
        "colab": {}
      },
      "source": [
        "data = data.groupby('date')['item_cnt_day'].sum().reset_index()"
      ],
      "execution_count": null,
      "outputs": []
    },
    {
      "cell_type": "code",
      "metadata": {
        "id": "rq-udLb-Bsh5",
        "colab_type": "code",
        "colab": {}
      },
      "source": [
        "data = data.set_index('date')\n",
        "data.index"
      ],
      "execution_count": null,
      "outputs": []
    },
    {
      "cell_type": "code",
      "metadata": {
        "id": "7w7i7KEax5cj",
        "colab_type": "code",
        "colab": {}
      },
      "source": [
        "data.head()"
      ],
      "execution_count": null,
      "outputs": []
    },
    {
      "cell_type": "code",
      "metadata": {
        "id": "CcezpyxQX1Wb",
        "colab_type": "code",
        "colab": {}
      },
      "source": [
        "from statsmodels.tsa.arima_model import ARIMA\n",
        "\n",
        "from statsmodels.tsa.statespace.sarimax import SARIMAX\n",
        "from pandas.plotting import autocorrelation_plot\n",
        "from statsmodels.tsa.stattools import adfuller, acf, pacf,arma_order_select_ic\n",
        "import statsmodels.formula.api as smf\n",
        "import statsmodels.tsa.api as smt\n",
        "import statsmodels.api as sm\n",
        "import scipy.stats as scs"
      ],
      "execution_count": null,
      "outputs": []
    },
    {
      "cell_type": "code",
      "metadata": {
        "id": "f1C6rpHJa5Jf",
        "colab_type": "code",
        "colab": {}
      },
      "source": [
        "df.head()"
      ],
      "execution_count": null,
      "outputs": []
    },
    {
      "cell_type": "code",
      "metadata": {
        "id": "Ka2y50F2RaAA",
        "colab_type": "code",
        "colab": {}
      },
      "source": [
        "monthly_salesdf=df.groupby([\"date_block_num\",\"shop_id\",\"item_id\"])[\n",
        "    \"date\",\"item_price\",\"item_cnt_day\"].agg({\"date\":[\"min\",'max'],\"item_price\":\"mean\",\"item_cnt_day\":\"sum\"})"
      ],
      "execution_count": null,
      "outputs": []
    },
    {
      "cell_type": "code",
      "metadata": {
        "id": "M_kwYUO6a_Fl",
        "colab_type": "code",
        "colab": {}
      },
      "source": [
        "monthly_salesdf.head(10)"
      ],
      "execution_count": null,
      "outputs": []
    },
    {
      "cell_type": "code",
      "metadata": {
        "id": "YL5fGDrBgwvX",
        "colab_type": "code",
        "colab": {}
      },
      "source": [
        "ts=df.groupby([\"date_block_num\"])[\"item_cnt_day\"].sum()\n",
        "ts.astype('float')\n",
        "plt.figure(figsize=(16,8))\n",
        "plt.title('Total Sales of the company')\n",
        "plt.xlabel('Time')\n",
        "plt.ylabel('Sales')\n",
        "plt.plot(ts)"
      ],
      "execution_count": null,
      "outputs": []
    },
    {
      "cell_type": "code",
      "metadata": {
        "id": "oveGZ_d21vRb",
        "colab_type": "code",
        "colab": {}
      },
      "source": [
        "def test_stationarity(timeseries):\n",
        "    \n",
        "    #Perform Dickey-Fuller test:\n",
        "    print('Results of Dickey-Fuller Test:')\n",
        "    dftest = adfuller(timeseries, autolag='AIC')\n",
        "    dfoutput = pd.Series(dftest[0:4], index=['Test Statistic','p-value','#Lags Used','Number of Observations Used'])\n",
        "    for key,value in dftest[4].items():\n",
        "        dfoutput['Critical Value (%s)'%key] = value\n",
        "    print (dfoutput)\n"
      ],
      "execution_count": null,
      "outputs": []
    },
    {
      "cell_type": "code",
      "metadata": {
        "id": "BPugCaf424nW",
        "colab_type": "code",
        "colab": {}
      },
      "source": [
        "test_stationarity(ts)"
      ],
      "execution_count": null,
      "outputs": []
    },
    {
      "cell_type": "code",
      "metadata": {
        "id": "RMBLyqyPJjjO",
        "colab_type": "code",
        "colab": {}
      },
      "source": [
        "from statsmodels.graphics.tsaplots import plot_acf,plot_pacf\n",
        "fig=plt.figure(figsize=(10,10))\n",
        "ax1=fig.add_subplot(311)\n",
        "fig=plot_acf(ts,ax=ax1,title='Auto correlation on original series')\n"
      ],
      "execution_count": null,
      "outputs": []
    },
    {
      "cell_type": "code",
      "metadata": {
        "id": "JXZ1_9aAK42e",
        "colab_type": "code",
        "colab": {}
      },
      "source": [
        "fig=plt.figure(figsize=(10,10))\n",
        "ax2=fig.add_subplot(312)\n",
        "fig=plot_acf(ts.diff().dropna(),ax=ax2,title='Auto correlation on original 1st order differencing')\n"
      ],
      "execution_count": null,
      "outputs": []
    },
    {
      "cell_type": "code",
      "metadata": {
        "id": "P1J8udwGMYHi",
        "colab_type": "code",
        "colab": {}
      },
      "source": [
        "fig=plt.figure(figsize=(10,10))\n",
        "ax3=fig.add_subplot(313)\n",
        "fig=plot_acf(ts.diff().dropna(),ax=ax3,title='Auto correlation on original 2nd order differencing')"
      ],
      "execution_count": null,
      "outputs": []
    },
    {
      "cell_type": "code",
      "metadata": {
        "id": "7UJfNkeqTcXO",
        "colab_type": "code",
        "colab": {}
      },
      "source": [
        "ts.diff().plot(figsize=(20,10),linewidth=5,fontsize=20)\n",
        "plt.xlabel('time',fontsize=20)"
      ],
      "execution_count": null,
      "outputs": []
    },
    {
      "cell_type": "code",
      "metadata": {
        "id": "-Q420Z74G91l",
        "colab_type": "code",
        "colab": {}
      },
      "source": [
        "ts.index=pd.date_range(start = '2013-01-01',end='2015-10-01', freq = 'MS')\n",
        "ts=ts.reset_index()\n",
        "ts=ts.loc[:,[\"index\",\"item_cnt_day\"]]\n",
        "ts.columns = ['confirmed_date','count']\n",
        "ts.head()"
      ],
      "execution_count": null,
      "outputs": []
    },
    {
      "cell_type": "code",
      "metadata": {
        "id": "b6WL0cfaHOF3",
        "colab_type": "code",
        "colab": {}
      },
      "source": [
        "model = ARIMA(ts['count'].values, order=(1, 1, 1))\n",
        "fit_model = model.fit(trend='c', full_output=True, disp=True)\n",
        "fit_model.summary()"
      ],
      "execution_count": null,
      "outputs": []
    },
    {
      "cell_type": "code",
      "metadata": {
        "id": "Zs0vQ_8oHYYn",
        "colab_type": "code",
        "colab": {}
      },
      "source": [
        "fit_model.plot_predict()\n",
        "plt.title('Forecast vs Actual')\n",
        "pd.DataFrame(fit_model.resid).plot()\n",
        "forcast = fit_model.forecast(steps=6)\n",
        "pred_y = forcast[0].tolist()\n",
        "pred = pd.DataFrame(pred_y)"
      ],
      "execution_count": null,
      "outputs": []
    },
    {
      "cell_type": "code",
      "metadata": {
        "id": "yEWDLg-2ZH61",
        "colab_type": "code",
        "colab": {}
      },
      "source": [
        "model = ARIMA(ts['count'].values, order=(1, 2, 1))\n",
        "fit_model = model.fit(trend='c', full_output=True, disp=True)\n",
        "fit_model.summary()"
      ],
      "execution_count": null,
      "outputs": []
    },
    {
      "cell_type": "code",
      "metadata": {
        "id": "2Q_XlsyqW1Hi",
        "colab_type": "code",
        "colab": {}
      },
      "source": [
        "fit_model.plot_predict()\n",
        "plt.title('Forecast vs Actual')\n",
        "pd.DataFrame(fit_model.resid).plot()\n",
        "forcast = fit_model.forecast(steps=6)\n",
        "pred_y = forcast[0].tolist()\n",
        "pred = pd.DataFrame(pred_y)"
      ],
      "execution_count": null,
      "outputs": []
    },
    {
      "cell_type": "code",
      "metadata": {
        "id": "T8lgJETXXO2T",
        "colab_type": "code",
        "colab": {}
      },
      "source": [
        "results.summary()"
      ],
      "execution_count": null,
      "outputs": []
    },
    {
      "cell_type": "code",
      "metadata": {
        "id": "TYUAL679OxLu",
        "colab_type": "code",
        "colab": {}
      },
      "source": [
        "###prophet\n",
        "ts=df.groupby([\"date_block_num\"])[\"item_cnt_day\"].sum()\n",
        "ts.index=pd.date_range(start = '2013-01-01',end='2015-10-01', freq = 'MS')\n",
        "ts=ts.reset_index()\n",
        "ts.head()"
      ],
      "execution_count": null,
      "outputs": []
    },
    {
      "cell_type": "code",
      "metadata": {
        "id": "pI-u040vQLmG",
        "colab_type": "code",
        "colab": {}
      },
      "source": [
        "ts.columns=['ds','y']\n",
        "ts.head()"
      ],
      "execution_count": null,
      "outputs": []
    },
    {
      "cell_type": "code",
      "metadata": {
        "id": "pSQ5KPP3QIOV",
        "colab_type": "code",
        "colab": {}
      },
      "source": [
        "from fbprophet import Prophet\n",
        "#prophet reqiures a pandas df at the below config \n",
        "# ( date column named as DS and the value column as Y)\n",
        "model = Prophet( yearly_seasonality=True) #instantiate Prophet with only yearly seasonality as our data is monthly \n",
        "model.fit(ts) #fit the model with your dataframe"
      ],
      "execution_count": null,
      "outputs": []
    },
    {
      "cell_type": "code",
      "metadata": {
        "id": "d5XqdplTQcjV",
        "colab_type": "code",
        "colab": {}
      },
      "source": [
        "future = model.make_future_dataframe(periods = 5, freq = 'MS')  \n",
        "# now lets make the forecasts\n",
        "forecast = model.predict(future)\n",
        "forecast[['ds', 'yhat', 'yhat_lower', 'yhat_upper']].tail()"
      ],
      "execution_count": null,
      "outputs": []
    },
    {
      "cell_type": "code",
      "metadata": {
        "id": "5TsQPWz7Qmbv",
        "colab_type": "code",
        "colab": {}
      },
      "source": [
        "model.plot(forecast)"
      ],
      "execution_count": null,
      "outputs": []
    },
    {
      "cell_type": "code",
      "metadata": {
        "id": "7uzpqxHU9OXj",
        "colab_type": "code",
        "colab": {}
      },
      "source": [
        "#import itertools\n",
        "#p = d = q = range(0, 2)\n",
        "#pdq = list(itertools.product(p, d, q))\n",
        "#seasonal_pdq = [(x[0], x[1], x[2], 12) for x in list(itertools.product(p, d, q))]\n",
        "#print('Examples of parameter combinations for Seasonal ARIMA...')\n",
        "##print('SARIMAX: {} x {}'.format(pdq[1], seasonal_pdq[1]))\n",
        "##print('SARIMAX: {} x {}'.format(pdq[1], seasonal_pdq[2]))\n",
        "##print('SARIMAX: {} x {}'.format(pdq[2], seasonal_pdq[3]))\n",
        "##print('SARIMAX: {} x {}'.format(pdq[2], seasonal_pdq[4]))"
      ],
      "execution_count": null,
      "outputs": []
    },
    {
      "cell_type": "code",
      "metadata": {
        "id": "19g-Srax9OrJ",
        "colab_type": "code",
        "colab": {}
      },
      "source": [
        "##for param in pdq:\n",
        "    #for param_seasonal in seasonal_pdq:\n",
        "       # try:\n",
        "           # mod = sm.tsa.statespace.SARIMAX(y,\n",
        "                                            order=param,\n",
        "                                            seasonal_order=param_seasonal,\n",
        "                                            enforce_stationarity=False,\n",
        "                                            enforce_invertibility=False)\n",
        "#results = mod.fit()\n",
        "#print('ARIMA{}x{}12 - AIC:{}'.format(param, param_seasonal, results.aic))\n",
        "       # except:\n",
        "           # continue"
      ],
      "execution_count": null,
      "outputs": []
    },
    {
      "cell_type": "code",
      "metadata": {
        "id": "NZYl9nwC5mfL",
        "colab_type": "code",
        "colab": {}
      },
      "source": [
        "#pred = results.get_prediction(start=pd.to_datetime('2015-01-01'), dynamic=False)\n",
        "#pred_ci = pred.conf_int()\n",
        "#ax = y['2013':].plot(label='observed')\n",
        "#pred.predicted_mean.plot(ax=ax, label='One-step ahead Forecast', alpha=.7, figsize=(14, 7))\n",
        "#ax.fill_between(pred_ci.index,\n",
        "                pred_ci.iloc[:, 0],\n",
        "                pred_ci.iloc[:, 1], color='k', alpha=.2)\n",
        "#ax.set_xlabel('Date')\n",
        "#ax.set_ylabel('Furniture Sales')\n",
        "#plt.legend()\n",
        "#plt.show()"
      ],
      "execution_count": null,
      "outputs": []
    },
    {
      "cell_type": "code",
      "metadata": {
        "id": "I1Ih4anWdUmi",
        "colab_type": "code",
        "colab": {}
      },
      "source": [
        ""
      ],
      "execution_count": null,
      "outputs": []
    }
  ]
}